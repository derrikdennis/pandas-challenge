{
 "cells": [
  {
   "cell_type": "code",
   "execution_count": 1,
   "metadata": {},
   "outputs": [],
   "source": [
    "# Dependencies and Setup\n",
    "import pandas as pd\n",
    "import numpy as np\n"
   ]
  },
  {
   "cell_type": "code",
   "execution_count": 2,
   "metadata": {},
   "outputs": [],
   "source": [
    "# File to Load (Remember to Change These)\n",
    "school_data_to_load = \"Resources/schools_complete.csv\"\n",
    "student_data_to_load = \"Resources/students_complete.csv\"\n",
    "\n",
    "# Read School and Student Data File and store into Pandas Data Frames\n",
    "school_data = pd.read_csv(school_data_to_load)\n",
    "student_data = pd.read_csv(student_data_to_load)"
   ]
  },
  {
   "cell_type": "code",
   "execution_count": 3,
   "metadata": {},
   "outputs": [],
   "source": [
    "#counting Number of Schools, Population of District and Total Budget\n",
    "school_count = school_data[\"school_name\"].count()\n",
    "student_pop = school_data[\"size\"].sum()\n",
    "total_budget = school_data[\"budget\"].sum()\n"
   ]
  },
  {
   "cell_type": "code",
   "execution_count": 4,
   "metadata": {},
   "outputs": [],
   "source": [
    "#Districtwide Student Stats\n",
    "scores = student_data[[\"Student ID\",\"school_name\",\"reading_score\",\"math_score\"]]\n",
    "\n",
    "avg_math_score = scores[\"math_score\"].mean()\n",
    "\n",
    "avg_read_score = scores[\"reading_score\"].mean()\n",
    "\n",
    "overall_avg_score = (avg_math_score + avg_read_score)/2\n"
   ]
  },
  {
   "cell_type": "code",
   "execution_count": 5,
   "metadata": {},
   "outputs": [],
   "source": [
    "#Districtwide Math and Reading Passing Rates\n",
    "\n",
    "passing_math = scores.loc[scores[\"math_score\"] >= 70]\n",
    "pct_pass_math = len(passing_math)/student_pop * 100\n",
    "\n",
    "passing_read = scores.loc[scores[\"reading_score\"] >= 70]\n",
    "pct_pass_read = len(passing_read)/student_pop * 100\n"
   ]
  },
  {
   "cell_type": "code",
   "execution_count": 6,
   "metadata": {},
   "outputs": [
    {
     "output_type": "execute_result",
     "data": {
      "text/plain": "   Total Schools Total Students Total Budget Average Math Score  \\\n0             15         39,170  $24,649,428              78.99   \n\n  Average Reading Score Pct. Pass Math Pct. Pass Reading  \\\n0                 81.88          74.98             85.81   \n\n  Pct. Overall Passing Rate  \n0                     80.43  ",
      "text/html": "<div>\n<style scoped>\n    .dataframe tbody tr th:only-of-type {\n        vertical-align: middle;\n    }\n\n    .dataframe tbody tr th {\n        vertical-align: top;\n    }\n\n    .dataframe thead th {\n        text-align: right;\n    }\n</style>\n<table border=\"1\" class=\"dataframe\">\n  <thead>\n    <tr style=\"text-align: right;\">\n      <th></th>\n      <th>Total Schools</th>\n      <th>Total Students</th>\n      <th>Total Budget</th>\n      <th>Average Math Score</th>\n      <th>Average Reading Score</th>\n      <th>Pct. Pass Math</th>\n      <th>Pct. Pass Reading</th>\n      <th>Pct. Overall Passing Rate</th>\n    </tr>\n  </thead>\n  <tbody>\n    <tr>\n      <th>0</th>\n      <td>15</td>\n      <td>39,170</td>\n      <td>$24,649,428</td>\n      <td>78.99</td>\n      <td>81.88</td>\n      <td>74.98</td>\n      <td>85.81</td>\n      <td>80.43</td>\n    </tr>\n  </tbody>\n</table>\n</div>"
     },
     "metadata": {},
     "execution_count": 6
    }
   ],
   "source": [
    "#Creating a summary chart for the district.\n",
    "\n",
    "district_sum = pd.DataFrame({\"Total Schools\" : [school_count],\n",
    "                             \"Total Students\" : student_pop,\n",
    "                             \"Total Budget\" : total_budget,\n",
    "                             \"Average Math Score\" : avg_math_score,\n",
    "                             \"Average Reading Score\" : avg_read_score,\n",
    "                             \"Pct. Pass Math\" : pct_pass_math,\n",
    "                             \"Pct. Pass Reading\" : pct_pass_read,\n",
    "                             \"Pct. Overall Passing Rate\" : overall_avg_score})\n",
    "\n",
    "district_sum['Total Students'] = district_sum[\"Total Students\"].map('{:,.0f}'.format)\n",
    "district_sum[\"Total Budget\"] = district_sum[\"Total Budget\"].map('${:,.0f}'.format)\n",
    "district_sum[\"Average Math Score\"] = district_sum[\"Average Math Score\"].map('{:,.2f}'.format)\n",
    "district_sum[\"Average Reading Score\"] = district_sum[\"Average Reading Score\"].map('{:,.2f}'.format)\n",
    "district_sum[\"Pct. Pass Math\"] = district_sum[\"Pct. Pass Math\"].map('{:,.2f}'.format)\n",
    "district_sum[\"Pct. Pass Reading\"] = district_sum[\"Pct. Pass Reading\"].map('{:,.2f}'.format)\n",
    "district_sum[\"Pct. Overall Passing Rate\"] = district_sum[\"Pct. Overall Passing Rate\"].map('{:,.2f}'.format)\n",
    "\n",
    "district_sum"
   ]
  },
  {
   "cell_type": "code",
   "execution_count": 7,
   "metadata": {
    "scrolled": true
   },
   "outputs": [],
   "source": [
    "#Getting information ready to look at stats by school level\n",
    "\n",
    "school_data_complete = pd.merge(student_data, school_data, how=\"left\", on=[\"school_name\", \"school_name\"])\n",
    "\n",
    "school_index = school_data.set_index('school_name')\n",
    "school_type = school_index['type']\n",
    "school_size = school_index['size']\n",
    "school_budget = school_index['budget']"
   ]
  },
  {
   "cell_type": "code",
   "execution_count": 8,
   "metadata": {},
   "outputs": [],
   "source": [
    "#calculating school budget and school budget per student\n",
    "\n",
    "budget_per_student = (school_budget/school_size)\n",
    "\n",
    "school_budget = school_budget.map('${:,.2f}'.format)\n",
    "budget_per_student = budget_per_student.map('${:,.2f}'.format)\n"
   ]
  },
  {
   "cell_type": "code",
   "execution_count": 9,
   "metadata": {},
   "outputs": [],
   "source": [
    "#Calculating average math and reading scores per school\n",
    "\n",
    "school_scores = school_data_complete.groupby(['school_name'])\n",
    "\n",
    "school_avg_math = school_scores[\"math_score\"].mean()\n",
    "school_avg_read = school_scores[\"reading_score\"].mean()\n",
    "\n",
    "school_avg_math = school_avg_math.map('{:.2f}'.format)\n",
    "school_avg_read = school_avg_read.map('{:.2f}'.format)"
   ]
  },
  {
   "cell_type": "code",
   "execution_count": 10,
   "metadata": {
    "scrolled": true
   },
   "outputs": [],
   "source": [
    "#Calculating passing rates for math, reading and overall by school\n",
    "\n",
    "sch_passing_math = school_data_complete.loc[school_data_complete[\"math_score\"] >= 70]\n",
    "sch_group_by_math = sch_passing_math.groupby(['school_name']).agg('count')\n",
    "sch_pct_pass_math = (sch_group_by_math)['math_score']/school_size * 100\n",
    "\n",
    "sch_passing_read = school_data_complete.loc[school_data_complete[\"reading_score\"] >= 70]\n",
    "sch_group_by_read = sch_passing_read.groupby(['school_name']).agg(\"count\")\n",
    "sch_pct_pass_read = (sch_group_by_read)['reading_score']/school_size * 100\n",
    "\n",
    "sch_overall_pass_rate = (sch_pct_pass_math + sch_pct_pass_read)/2\n",
    "\n",
    "school_size = school_size.map('{:,.0f}'.format)\n",
    "sch_pct_pass_math = sch_pct_pass_math.map('{:.2f}'.format)\n",
    "sch_pct_pass_read = sch_pct_pass_read.map('{:.2f}'.format)\n",
    "sch_overall_pass_rate = sch_overall_pass_rate.map('{:.2f}'.format)"
   ]
  },
  {
   "cell_type": "code",
   "execution_count": 11,
   "metadata": {},
   "outputs": [
    {
     "output_type": "execute_result",
     "data": {
      "text/plain": "                      School Type Total School Size Total School Budget  \\\nBailey High School       District             4,976       $3,124,928.00   \nCabrera High School       Charter             1,858       $1,081,356.00   \nFigueroa High School     District             2,949       $1,884,411.00   \nFord High School         District             2,739       $1,763,916.00   \nGriffin High School       Charter             1,468         $917,500.00   \nHernandez High School    District             4,635       $3,022,020.00   \nHolden High School        Charter               427         $248,087.00   \nHuang High School        District             2,917       $1,910,635.00   \nJohnson High School      District             4,761       $3,094,650.00   \nPena High School          Charter               962         $585,858.00   \nRodriguez High School    District             3,999       $2,547,363.00   \nShelton High School       Charter             1,761       $1,056,600.00   \nThomas High School        Charter             1,635       $1,043,130.00   \nWilson High School        Charter             2,283       $1,319,574.00   \nWright High School        Charter             1,800       $1,049,400.00   \n\n                      Budget Per Student Average Math Schore  \\\nBailey High School               $628.00               77.05   \nCabrera High School              $582.00               83.06   \nFigueroa High School             $639.00               76.71   \nFord High School                 $644.00               77.10   \nGriffin High School              $625.00               83.35   \nHernandez High School            $652.00               77.29   \nHolden High School               $581.00               83.80   \nHuang High School                $655.00               76.63   \nJohnson High School              $650.00               77.07   \nPena High School                 $609.00               83.84   \nRodriguez High School            $637.00               76.84   \nShelton High School              $600.00               83.36   \nThomas High School               $638.00               83.42   \nWilson High School               $578.00               83.27   \nWright High School               $583.00               83.68   \n\n                      Average Reading Score % Passing Math % Passing Reading  \\\nBailey High School                    81.03          66.68             81.93   \nCabrera High School                   83.98          94.13             97.04   \nFigueroa High School                  81.16          65.99             80.74   \nFord High School                      80.75          68.31             79.30   \nGriffin High School                   83.82          93.39             97.14   \nHernandez High School                 80.93          66.75             80.86   \nHolden High School                    83.81          92.51             96.25   \nHuang High School                     81.18          65.68             81.32   \nJohnson High School                   80.97          66.06             81.22   \nPena High School                      84.04          94.59             95.95   \nRodriguez High School                 80.74          66.37             80.22   \nShelton High School                   83.73          93.87             95.85   \nThomas High School                    83.85          93.27             97.31   \nWilson High School                    83.99          93.87             96.54   \nWright High School                    83.95          93.33             96.61   \n\n                      Overall Passing Rate  \nBailey High School                   74.31  \nCabrera High School                  95.59  \nFigueroa High School                 73.36  \nFord High School                     73.80  \nGriffin High School                  95.27  \nHernandez High School                73.81  \nHolden High School                   94.38  \nHuang High School                    73.50  \nJohnson High School                  73.64  \nPena High School                     95.27  \nRodriguez High School                73.29  \nShelton High School                  94.86  \nThomas High School                   95.29  \nWilson High School                   95.20  \nWright High School                   94.97  ",
      "text/html": "<div>\n<style scoped>\n    .dataframe tbody tr th:only-of-type {\n        vertical-align: middle;\n    }\n\n    .dataframe tbody tr th {\n        vertical-align: top;\n    }\n\n    .dataframe thead th {\n        text-align: right;\n    }\n</style>\n<table border=\"1\" class=\"dataframe\">\n  <thead>\n    <tr style=\"text-align: right;\">\n      <th></th>\n      <th>School Type</th>\n      <th>Total School Size</th>\n      <th>Total School Budget</th>\n      <th>Budget Per Student</th>\n      <th>Average Math Schore</th>\n      <th>Average Reading Score</th>\n      <th>% Passing Math</th>\n      <th>% Passing Reading</th>\n      <th>Overall Passing Rate</th>\n    </tr>\n  </thead>\n  <tbody>\n    <tr>\n      <th>Bailey High School</th>\n      <td>District</td>\n      <td>4,976</td>\n      <td>$3,124,928.00</td>\n      <td>$628.00</td>\n      <td>77.05</td>\n      <td>81.03</td>\n      <td>66.68</td>\n      <td>81.93</td>\n      <td>74.31</td>\n    </tr>\n    <tr>\n      <th>Cabrera High School</th>\n      <td>Charter</td>\n      <td>1,858</td>\n      <td>$1,081,356.00</td>\n      <td>$582.00</td>\n      <td>83.06</td>\n      <td>83.98</td>\n      <td>94.13</td>\n      <td>97.04</td>\n      <td>95.59</td>\n    </tr>\n    <tr>\n      <th>Figueroa High School</th>\n      <td>District</td>\n      <td>2,949</td>\n      <td>$1,884,411.00</td>\n      <td>$639.00</td>\n      <td>76.71</td>\n      <td>81.16</td>\n      <td>65.99</td>\n      <td>80.74</td>\n      <td>73.36</td>\n    </tr>\n    <tr>\n      <th>Ford High School</th>\n      <td>District</td>\n      <td>2,739</td>\n      <td>$1,763,916.00</td>\n      <td>$644.00</td>\n      <td>77.10</td>\n      <td>80.75</td>\n      <td>68.31</td>\n      <td>79.30</td>\n      <td>73.80</td>\n    </tr>\n    <tr>\n      <th>Griffin High School</th>\n      <td>Charter</td>\n      <td>1,468</td>\n      <td>$917,500.00</td>\n      <td>$625.00</td>\n      <td>83.35</td>\n      <td>83.82</td>\n      <td>93.39</td>\n      <td>97.14</td>\n      <td>95.27</td>\n    </tr>\n    <tr>\n      <th>Hernandez High School</th>\n      <td>District</td>\n      <td>4,635</td>\n      <td>$3,022,020.00</td>\n      <td>$652.00</td>\n      <td>77.29</td>\n      <td>80.93</td>\n      <td>66.75</td>\n      <td>80.86</td>\n      <td>73.81</td>\n    </tr>\n    <tr>\n      <th>Holden High School</th>\n      <td>Charter</td>\n      <td>427</td>\n      <td>$248,087.00</td>\n      <td>$581.00</td>\n      <td>83.80</td>\n      <td>83.81</td>\n      <td>92.51</td>\n      <td>96.25</td>\n      <td>94.38</td>\n    </tr>\n    <tr>\n      <th>Huang High School</th>\n      <td>District</td>\n      <td>2,917</td>\n      <td>$1,910,635.00</td>\n      <td>$655.00</td>\n      <td>76.63</td>\n      <td>81.18</td>\n      <td>65.68</td>\n      <td>81.32</td>\n      <td>73.50</td>\n    </tr>\n    <tr>\n      <th>Johnson High School</th>\n      <td>District</td>\n      <td>4,761</td>\n      <td>$3,094,650.00</td>\n      <td>$650.00</td>\n      <td>77.07</td>\n      <td>80.97</td>\n      <td>66.06</td>\n      <td>81.22</td>\n      <td>73.64</td>\n    </tr>\n    <tr>\n      <th>Pena High School</th>\n      <td>Charter</td>\n      <td>962</td>\n      <td>$585,858.00</td>\n      <td>$609.00</td>\n      <td>83.84</td>\n      <td>84.04</td>\n      <td>94.59</td>\n      <td>95.95</td>\n      <td>95.27</td>\n    </tr>\n    <tr>\n      <th>Rodriguez High School</th>\n      <td>District</td>\n      <td>3,999</td>\n      <td>$2,547,363.00</td>\n      <td>$637.00</td>\n      <td>76.84</td>\n      <td>80.74</td>\n      <td>66.37</td>\n      <td>80.22</td>\n      <td>73.29</td>\n    </tr>\n    <tr>\n      <th>Shelton High School</th>\n      <td>Charter</td>\n      <td>1,761</td>\n      <td>$1,056,600.00</td>\n      <td>$600.00</td>\n      <td>83.36</td>\n      <td>83.73</td>\n      <td>93.87</td>\n      <td>95.85</td>\n      <td>94.86</td>\n    </tr>\n    <tr>\n      <th>Thomas High School</th>\n      <td>Charter</td>\n      <td>1,635</td>\n      <td>$1,043,130.00</td>\n      <td>$638.00</td>\n      <td>83.42</td>\n      <td>83.85</td>\n      <td>93.27</td>\n      <td>97.31</td>\n      <td>95.29</td>\n    </tr>\n    <tr>\n      <th>Wilson High School</th>\n      <td>Charter</td>\n      <td>2,283</td>\n      <td>$1,319,574.00</td>\n      <td>$578.00</td>\n      <td>83.27</td>\n      <td>83.99</td>\n      <td>93.87</td>\n      <td>96.54</td>\n      <td>95.20</td>\n    </tr>\n    <tr>\n      <th>Wright High School</th>\n      <td>Charter</td>\n      <td>1,800</td>\n      <td>$1,049,400.00</td>\n      <td>$583.00</td>\n      <td>83.68</td>\n      <td>83.95</td>\n      <td>93.33</td>\n      <td>96.61</td>\n      <td>94.97</td>\n    </tr>\n  </tbody>\n</table>\n</div>"
     },
     "metadata": {},
     "execution_count": 11
    }
   ],
   "source": [
    "#Creating a table by school with information caluclated and tabulated above.\n",
    "\n",
    "school_sum = pd.DataFrame({\"School Type\" : school_type,\n",
    "                           \"Total School Size\" : school_size,\n",
    "                           \"Total School Budget\" : school_budget,\n",
    "                           \"Budget Per Student\" : budget_per_student,\n",
    "                           \"Average Math Schore\" : school_avg_math,\n",
    "                           \"Average Reading Score\" : school_avg_read,\n",
    "                           \"% Passing Math\" : sch_pct_pass_math,\n",
    "                           \"% Passing Reading\" : sch_pct_pass_read,\n",
    "                           \"Overall Passing Rate\" : sch_overall_pass_rate\n",
    "                           }\n",
    ")\n",
    "\n",
    "school_sum['Total School Budget'] = school_sum['Total School Budget']\n",
    "school_sum"
   ]
  },
  {
   "cell_type": "code",
   "execution_count": 12,
   "metadata": {},
   "outputs": [
    {
     "output_type": "execute_result",
     "data": {
      "text/plain": "                    School Type Total School Size Total School Budget  \\\nCabrera High School     Charter             1,858       $1,081,356.00   \nThomas High School      Charter             1,635       $1,043,130.00   \nGriffin High School     Charter             1,468         $917,500.00   \nPena High School        Charter               962         $585,858.00   \nWilson High School      Charter             2,283       $1,319,574.00   \n\n                    Budget Per Student Average Math Schore  \\\nCabrera High School            $582.00               83.06   \nThomas High School             $638.00               83.42   \nGriffin High School            $625.00               83.35   \nPena High School               $609.00               83.84   \nWilson High School             $578.00               83.27   \n\n                    Average Reading Score % Passing Math % Passing Reading  \\\nCabrera High School                 83.98          94.13             97.04   \nThomas High School                  83.85          93.27             97.31   \nGriffin High School                 83.82          93.39             97.14   \nPena High School                    84.04          94.59             95.95   \nWilson High School                  83.99          93.87             96.54   \n\n                    Overall Passing Rate  \nCabrera High School                95.59  \nThomas High School                 95.29  \nGriffin High School                95.27  \nPena High School                   95.27  \nWilson High School                 95.20  ",
      "text/html": "<div>\n<style scoped>\n    .dataframe tbody tr th:only-of-type {\n        vertical-align: middle;\n    }\n\n    .dataframe tbody tr th {\n        vertical-align: top;\n    }\n\n    .dataframe thead th {\n        text-align: right;\n    }\n</style>\n<table border=\"1\" class=\"dataframe\">\n  <thead>\n    <tr style=\"text-align: right;\">\n      <th></th>\n      <th>School Type</th>\n      <th>Total School Size</th>\n      <th>Total School Budget</th>\n      <th>Budget Per Student</th>\n      <th>Average Math Schore</th>\n      <th>Average Reading Score</th>\n      <th>% Passing Math</th>\n      <th>% Passing Reading</th>\n      <th>Overall Passing Rate</th>\n    </tr>\n  </thead>\n  <tbody>\n    <tr>\n      <th>Cabrera High School</th>\n      <td>Charter</td>\n      <td>1,858</td>\n      <td>$1,081,356.00</td>\n      <td>$582.00</td>\n      <td>83.06</td>\n      <td>83.98</td>\n      <td>94.13</td>\n      <td>97.04</td>\n      <td>95.59</td>\n    </tr>\n    <tr>\n      <th>Thomas High School</th>\n      <td>Charter</td>\n      <td>1,635</td>\n      <td>$1,043,130.00</td>\n      <td>$638.00</td>\n      <td>83.42</td>\n      <td>83.85</td>\n      <td>93.27</td>\n      <td>97.31</td>\n      <td>95.29</td>\n    </tr>\n    <tr>\n      <th>Griffin High School</th>\n      <td>Charter</td>\n      <td>1,468</td>\n      <td>$917,500.00</td>\n      <td>$625.00</td>\n      <td>83.35</td>\n      <td>83.82</td>\n      <td>93.39</td>\n      <td>97.14</td>\n      <td>95.27</td>\n    </tr>\n    <tr>\n      <th>Pena High School</th>\n      <td>Charter</td>\n      <td>962</td>\n      <td>$585,858.00</td>\n      <td>$609.00</td>\n      <td>83.84</td>\n      <td>84.04</td>\n      <td>94.59</td>\n      <td>95.95</td>\n      <td>95.27</td>\n    </tr>\n    <tr>\n      <th>Wilson High School</th>\n      <td>Charter</td>\n      <td>2,283</td>\n      <td>$1,319,574.00</td>\n      <td>$578.00</td>\n      <td>83.27</td>\n      <td>83.99</td>\n      <td>93.87</td>\n      <td>96.54</td>\n      <td>95.20</td>\n    </tr>\n  </tbody>\n</table>\n</div>"
     },
     "metadata": {},
     "execution_count": 12
    }
   ],
   "source": [
    "#Finding the five schools with the highest overall passing rate. Congratulations Cabrera High!\n",
    "High5_Schools = school_sum.sort_values(\"Overall Passing Rate\",ascending = False)\n",
    "High5_Schools.head(n=5)"
   ]
  },
  {
   "cell_type": "code",
   "execution_count": 13,
   "metadata": {},
   "outputs": [
    {
     "output_type": "execute_result",
     "data": {
      "text/plain": "                      School Type Total School Size Total School Budget  \\\nRodriguez High School    District             3,999       $2,547,363.00   \nFigueroa High School     District             2,949       $1,884,411.00   \nHuang High School        District             2,917       $1,910,635.00   \nJohnson High School      District             4,761       $3,094,650.00   \nFord High School         District             2,739       $1,763,916.00   \n\n                      Budget Per Student Average Math Schore  \\\nRodriguez High School            $637.00               76.84   \nFigueroa High School             $639.00               76.71   \nHuang High School                $655.00               76.63   \nJohnson High School              $650.00               77.07   \nFord High School                 $644.00               77.10   \n\n                      Average Reading Score % Passing Math % Passing Reading  \\\nRodriguez High School                 80.74          66.37             80.22   \nFigueroa High School                  81.16          65.99             80.74   \nHuang High School                     81.18          65.68             81.32   \nJohnson High School                   80.97          66.06             81.22   \nFord High School                      80.75          68.31             79.30   \n\n                      Overall Passing Rate  \nRodriguez High School                73.29  \nFigueroa High School                 73.36  \nHuang High School                    73.50  \nJohnson High School                  73.64  \nFord High School                     73.80  ",
      "text/html": "<div>\n<style scoped>\n    .dataframe tbody tr th:only-of-type {\n        vertical-align: middle;\n    }\n\n    .dataframe tbody tr th {\n        vertical-align: top;\n    }\n\n    .dataframe thead th {\n        text-align: right;\n    }\n</style>\n<table border=\"1\" class=\"dataframe\">\n  <thead>\n    <tr style=\"text-align: right;\">\n      <th></th>\n      <th>School Type</th>\n      <th>Total School Size</th>\n      <th>Total School Budget</th>\n      <th>Budget Per Student</th>\n      <th>Average Math Schore</th>\n      <th>Average Reading Score</th>\n      <th>% Passing Math</th>\n      <th>% Passing Reading</th>\n      <th>Overall Passing Rate</th>\n    </tr>\n  </thead>\n  <tbody>\n    <tr>\n      <th>Rodriguez High School</th>\n      <td>District</td>\n      <td>3,999</td>\n      <td>$2,547,363.00</td>\n      <td>$637.00</td>\n      <td>76.84</td>\n      <td>80.74</td>\n      <td>66.37</td>\n      <td>80.22</td>\n      <td>73.29</td>\n    </tr>\n    <tr>\n      <th>Figueroa High School</th>\n      <td>District</td>\n      <td>2,949</td>\n      <td>$1,884,411.00</td>\n      <td>$639.00</td>\n      <td>76.71</td>\n      <td>81.16</td>\n      <td>65.99</td>\n      <td>80.74</td>\n      <td>73.36</td>\n    </tr>\n    <tr>\n      <th>Huang High School</th>\n      <td>District</td>\n      <td>2,917</td>\n      <td>$1,910,635.00</td>\n      <td>$655.00</td>\n      <td>76.63</td>\n      <td>81.18</td>\n      <td>65.68</td>\n      <td>81.32</td>\n      <td>73.50</td>\n    </tr>\n    <tr>\n      <th>Johnson High School</th>\n      <td>District</td>\n      <td>4,761</td>\n      <td>$3,094,650.00</td>\n      <td>$650.00</td>\n      <td>77.07</td>\n      <td>80.97</td>\n      <td>66.06</td>\n      <td>81.22</td>\n      <td>73.64</td>\n    </tr>\n    <tr>\n      <th>Ford High School</th>\n      <td>District</td>\n      <td>2,739</td>\n      <td>$1,763,916.00</td>\n      <td>$644.00</td>\n      <td>77.10</td>\n      <td>80.75</td>\n      <td>68.31</td>\n      <td>79.30</td>\n      <td>73.80</td>\n    </tr>\n  </tbody>\n</table>\n</div>"
     },
     "metadata": {},
     "execution_count": 13
    }
   ],
   "source": [
    "#Finding the five schools with the lowest overall passing rate. Need some work there Rodriguez.\n",
    "Low5_Schools = school_sum.sort_values(\"Overall Passing Rate\")\n",
    "Low5_Schools.head(n=5)"
   ]
  },
  {
   "cell_type": "code",
   "execution_count": 14,
   "metadata": {},
   "outputs": [
    {
     "output_type": "execute_result",
     "data": {
      "text/plain": "                      9th Grade 10th Grade 11th Grade 12th Grade\nschool_name                                                     \nBailey High School        77.08      77.00      77.52      76.49\nCabrera High School       83.09      83.15      82.77      83.28\nFigueroa High School      76.40      76.54      76.88      77.15\nFord High School          77.36      77.67      76.92      76.18\nGriffin High School       82.04      84.23      83.84      83.36\nHernandez High School     77.44      77.34      77.14      77.19\nHolden High School        83.79      83.43      85.00      82.86\nHuang High School         77.03      75.91      76.45      77.23\nJohnson High School       77.19      76.69      77.49      76.86\nPena High School          83.63      83.37      84.33      84.12\nRodriguez High School     76.86      76.61      76.40      77.69\nShelton High School       83.42      82.92      83.38      83.78\nThomas High School        83.59      83.09      83.50      83.50\nWilson High School        83.09      83.72      83.20      83.04\nWright High School        83.26      84.01      83.84      83.64",
      "text/html": "<div>\n<style scoped>\n    .dataframe tbody tr th:only-of-type {\n        vertical-align: middle;\n    }\n\n    .dataframe tbody tr th {\n        vertical-align: top;\n    }\n\n    .dataframe thead th {\n        text-align: right;\n    }\n</style>\n<table border=\"1\" class=\"dataframe\">\n  <thead>\n    <tr style=\"text-align: right;\">\n      <th></th>\n      <th>9th Grade</th>\n      <th>10th Grade</th>\n      <th>11th Grade</th>\n      <th>12th Grade</th>\n    </tr>\n    <tr>\n      <th>school_name</th>\n      <th></th>\n      <th></th>\n      <th></th>\n      <th></th>\n    </tr>\n  </thead>\n  <tbody>\n    <tr>\n      <th>Bailey High School</th>\n      <td>77.08</td>\n      <td>77.00</td>\n      <td>77.52</td>\n      <td>76.49</td>\n    </tr>\n    <tr>\n      <th>Cabrera High School</th>\n      <td>83.09</td>\n      <td>83.15</td>\n      <td>82.77</td>\n      <td>83.28</td>\n    </tr>\n    <tr>\n      <th>Figueroa High School</th>\n      <td>76.40</td>\n      <td>76.54</td>\n      <td>76.88</td>\n      <td>77.15</td>\n    </tr>\n    <tr>\n      <th>Ford High School</th>\n      <td>77.36</td>\n      <td>77.67</td>\n      <td>76.92</td>\n      <td>76.18</td>\n    </tr>\n    <tr>\n      <th>Griffin High School</th>\n      <td>82.04</td>\n      <td>84.23</td>\n      <td>83.84</td>\n      <td>83.36</td>\n    </tr>\n    <tr>\n      <th>Hernandez High School</th>\n      <td>77.44</td>\n      <td>77.34</td>\n      <td>77.14</td>\n      <td>77.19</td>\n    </tr>\n    <tr>\n      <th>Holden High School</th>\n      <td>83.79</td>\n      <td>83.43</td>\n      <td>85.00</td>\n      <td>82.86</td>\n    </tr>\n    <tr>\n      <th>Huang High School</th>\n      <td>77.03</td>\n      <td>75.91</td>\n      <td>76.45</td>\n      <td>77.23</td>\n    </tr>\n    <tr>\n      <th>Johnson High School</th>\n      <td>77.19</td>\n      <td>76.69</td>\n      <td>77.49</td>\n      <td>76.86</td>\n    </tr>\n    <tr>\n      <th>Pena High School</th>\n      <td>83.63</td>\n      <td>83.37</td>\n      <td>84.33</td>\n      <td>84.12</td>\n    </tr>\n    <tr>\n      <th>Rodriguez High School</th>\n      <td>76.86</td>\n      <td>76.61</td>\n      <td>76.40</td>\n      <td>77.69</td>\n    </tr>\n    <tr>\n      <th>Shelton High School</th>\n      <td>83.42</td>\n      <td>82.92</td>\n      <td>83.38</td>\n      <td>83.78</td>\n    </tr>\n    <tr>\n      <th>Thomas High School</th>\n      <td>83.59</td>\n      <td>83.09</td>\n      <td>83.50</td>\n      <td>83.50</td>\n    </tr>\n    <tr>\n      <th>Wilson High School</th>\n      <td>83.09</td>\n      <td>83.72</td>\n      <td>83.20</td>\n      <td>83.04</td>\n    </tr>\n    <tr>\n      <th>Wright High School</th>\n      <td>83.26</td>\n      <td>84.01</td>\n      <td>83.84</td>\n      <td>83.64</td>\n    </tr>\n  </tbody>\n</table>\n</div>"
     },
     "metadata": {},
     "execution_count": 14
    }
   ],
   "source": [
    "#identifying average math scores by school grade and campus.\n",
    "\n",
    "ninth_gr = student_data.loc[student_data['grade']=='9th'].groupby('school_name')\n",
    "tenth_gr = student_data.loc[student_data['grade']=='10th'].groupby('school_name')\n",
    "eleventh_gr = student_data.loc[student_data['grade']=='11th'].groupby('school_name')\n",
    "twelfth_gr = student_data.loc[student_data['grade']=='12th'].groupby('school_name')\n",
    "\n",
    "math_ninth_by_school = ninth_gr['math_score'].mean().map('{:,.2f}'.format)\n",
    "math_tenth_by_school = tenth_gr['math_score'].mean().map('{:,.2f}'.format)\n",
    "math_eleventh_by_school = eleventh_gr['math_score'].mean().map('{:,.2f}'.format)\n",
    "math_twelfth_by_school = twelfth_gr['math_score'].mean().map('{:,.2f}'.format)\n",
    "\n",
    "math_summary_by_school = pd.DataFrame({\"9th Grade\" : math_ninth_by_school,\n",
    "                                       \"10th Grade\" : math_tenth_by_school,\n",
    "                                       \"11th Grade\" : math_eleventh_by_school,\n",
    "                                       \"12th Grade\" : math_twelfth_by_school})\n",
    "math_summary_by_school"
   ]
  },
  {
   "cell_type": "code",
   "execution_count": 15,
   "metadata": {},
   "outputs": [
    {
     "output_type": "execute_result",
     "data": {
      "text/plain": "                      9th Grade 10th Grade 11th Grade 12th Grade\nschool_name                                                     \nBailey High School        81.30      80.91      80.95      80.91\nCabrera High School       83.68      84.25      83.79      84.29\nFigueroa High School      81.20      81.41      80.64      81.38\nFord High School          80.63      81.26      80.40      80.66\nGriffin High School       83.37      83.71      84.29      84.01\nHernandez High School     80.87      80.66      81.40      80.86\nHolden High School        83.68      83.32      83.82      84.70\nHuang High School         81.29      81.51      81.42      80.31\nJohnson High School       81.26      80.77      80.62      81.23\nPena High School          83.81      83.61      84.34      84.59\nRodriguez High School     80.99      80.63      80.86      80.38\nShelton High School       84.12      83.44      84.37      82.78\nThomas High School        83.73      84.25      83.59      83.83\nWilson High School        83.94      84.02      83.76      84.32\nWright High School        83.83      83.81      84.16      84.07",
      "text/html": "<div>\n<style scoped>\n    .dataframe tbody tr th:only-of-type {\n        vertical-align: middle;\n    }\n\n    .dataframe tbody tr th {\n        vertical-align: top;\n    }\n\n    .dataframe thead th {\n        text-align: right;\n    }\n</style>\n<table border=\"1\" class=\"dataframe\">\n  <thead>\n    <tr style=\"text-align: right;\">\n      <th></th>\n      <th>9th Grade</th>\n      <th>10th Grade</th>\n      <th>11th Grade</th>\n      <th>12th Grade</th>\n    </tr>\n    <tr>\n      <th>school_name</th>\n      <th></th>\n      <th></th>\n      <th></th>\n      <th></th>\n    </tr>\n  </thead>\n  <tbody>\n    <tr>\n      <th>Bailey High School</th>\n      <td>81.30</td>\n      <td>80.91</td>\n      <td>80.95</td>\n      <td>80.91</td>\n    </tr>\n    <tr>\n      <th>Cabrera High School</th>\n      <td>83.68</td>\n      <td>84.25</td>\n      <td>83.79</td>\n      <td>84.29</td>\n    </tr>\n    <tr>\n      <th>Figueroa High School</th>\n      <td>81.20</td>\n      <td>81.41</td>\n      <td>80.64</td>\n      <td>81.38</td>\n    </tr>\n    <tr>\n      <th>Ford High School</th>\n      <td>80.63</td>\n      <td>81.26</td>\n      <td>80.40</td>\n      <td>80.66</td>\n    </tr>\n    <tr>\n      <th>Griffin High School</th>\n      <td>83.37</td>\n      <td>83.71</td>\n      <td>84.29</td>\n      <td>84.01</td>\n    </tr>\n    <tr>\n      <th>Hernandez High School</th>\n      <td>80.87</td>\n      <td>80.66</td>\n      <td>81.40</td>\n      <td>80.86</td>\n    </tr>\n    <tr>\n      <th>Holden High School</th>\n      <td>83.68</td>\n      <td>83.32</td>\n      <td>83.82</td>\n      <td>84.70</td>\n    </tr>\n    <tr>\n      <th>Huang High School</th>\n      <td>81.29</td>\n      <td>81.51</td>\n      <td>81.42</td>\n      <td>80.31</td>\n    </tr>\n    <tr>\n      <th>Johnson High School</th>\n      <td>81.26</td>\n      <td>80.77</td>\n      <td>80.62</td>\n      <td>81.23</td>\n    </tr>\n    <tr>\n      <th>Pena High School</th>\n      <td>83.81</td>\n      <td>83.61</td>\n      <td>84.34</td>\n      <td>84.59</td>\n    </tr>\n    <tr>\n      <th>Rodriguez High School</th>\n      <td>80.99</td>\n      <td>80.63</td>\n      <td>80.86</td>\n      <td>80.38</td>\n    </tr>\n    <tr>\n      <th>Shelton High School</th>\n      <td>84.12</td>\n      <td>83.44</td>\n      <td>84.37</td>\n      <td>82.78</td>\n    </tr>\n    <tr>\n      <th>Thomas High School</th>\n      <td>83.73</td>\n      <td>84.25</td>\n      <td>83.59</td>\n      <td>83.83</td>\n    </tr>\n    <tr>\n      <th>Wilson High School</th>\n      <td>83.94</td>\n      <td>84.02</td>\n      <td>83.76</td>\n      <td>84.32</td>\n    </tr>\n    <tr>\n      <th>Wright High School</th>\n      <td>83.83</td>\n      <td>83.81</td>\n      <td>84.16</td>\n      <td>84.07</td>\n    </tr>\n  </tbody>\n</table>\n</div>"
     },
     "metadata": {},
     "execution_count": 15
    }
   ],
   "source": [
    "#Calculating average reading score by school grade and campus.\n",
    "\n",
    "read_ninth_by_school = ninth_gr['reading_score'].mean().map('{:,.2f}'.format)\n",
    "read_tenth_by_school = tenth_gr['reading_score'].mean().map('{:,.2f}'.format)\n",
    "read_eleventh_by_school = eleventh_gr['reading_score'].mean().map('{:,.2f}'.format)\n",
    "read_twelfth_by_school = twelfth_gr['reading_score'].mean().map('{:,.2f}'.format)\n",
    "\n",
    "read_summary_by_school = pd.DataFrame({\"9th Grade\" : read_ninth_by_school,\n",
    "                                       \"10th Grade\" : read_tenth_by_school,\n",
    "                                       \"11th Grade\" : read_eleventh_by_school,\n",
    "                                       \"12th Grade\" : read_twelfth_by_school})\n",
    "read_summary_by_school"
   ]
  },
  {
   "cell_type": "code",
   "execution_count": 16,
   "metadata": {},
   "outputs": [],
   "source": [
    "#setting budget per student bins and merging information back into complete student level database.\n",
    "#Budget per student bins are: >$600, $600 - $624, $625 - $649, and $650+\n",
    "\n",
    "budget_bins = [0,600,625,650,675]\n",
    "budget_range = ['<$600','$600-$624','$625-$649','$650+']\n",
    "\n",
    "b1  = budget_per_student.str.replace('$','')\n",
    "b1 = b1.astype(float)\n",
    "\n",
    "b1 = pd.cut(b1,budget_bins,labels = budget_range)\n",
    "b2 = pd.DataFrame({\"Budget Per Student(Range)\" : b1})\n",
    "b2 = pd.DataFrame.reset_index(b2)\n",
    "budget_range_merge = pd.merge(school_data_complete,b2,on=\"school_name\")"
   ]
  },
  {
   "cell_type": "code",
   "execution_count": 17,
   "metadata": {},
   "outputs": [],
   "source": [
    "#Looking at budget per student bins average reading and math scores\n",
    "\n",
    "budget_scores = budget_range_merge.groupby(['Budget Per Student(Range)'])\n",
    "\n",
    "\n",
    "budget_avg_math = budget_scores[\"math_score\"].mean()\n",
    "budget_avg_read = budget_scores[\"reading_score\"].mean()\n",
    "\n",
    "budget_avg_math = budget_avg_math.map('{:.2f}'.format)\n",
    "budget_avg_read = budget_avg_read.map('{:.2f}'.format)\n",
    "\n"
   ]
  },
  {
   "cell_type": "code",
   "execution_count": 18,
   "metadata": {},
   "outputs": [],
   "source": [
    "#calculating budge per student bins passing rates for math, reading and overall\n",
    "\n",
    "budget_range_size = budget_range_merge[\"Budget Per Student(Range)\"].value_counts()\n",
    "bud_passing_math = budget_range_merge.loc[budget_range_merge[\"math_score\"] >= 70]\n",
    "bud_group_by_math = bud_passing_math.groupby(['Budget Per Student(Range)']).agg('count')\n",
    "bud_pct_pass_math = (bud_group_by_math)['math_score']/budget_range_size * 100\n",
    "\n",
    "bud_passing_read = budget_range_merge.loc[budget_range_merge[\"reading_score\"] >= 70]\n",
    "bud_group_by_read = bud_passing_read.groupby(['Budget Per Student(Range)']).agg(\"count\")\n",
    "bud_pct_pass_read = (bud_group_by_read)['reading_score']/budget_range_size * 100\n",
    "\n",
    "bud_overall_pass_rate = (bud_pct_pass_math + bud_pct_pass_read)/2\n",
    "\n",
    "bud_pct_pass_math = bud_pct_pass_math.map('{:.2f}'.format)\n",
    "bud_pct_pass_read = bud_pct_pass_read.map('{:.2f}'.format)\n",
    "bud_overall_pass_rate = bud_overall_pass_rate.map('{:.2f}'.format)\n"
   ]
  },
  {
   "cell_type": "code",
   "execution_count": 19,
   "metadata": {},
   "outputs": [
    {
     "output_type": "execute_result",
     "data": {
      "text/plain": "          Average Math Score Average Reading Score Pct Passed Math  \\\n<$600                  83.36                 83.91           93.74   \n$600-$624              83.54                 83.91           93.87   \n$625-$649              77.47                 81.16           68.66   \n$650+                  77.03                 81.03           66.34   \n\n          Pct Passed Reading Pct. Overall Passing Rate  \n<$600                  96.51                     95.12  \n$600-$624              96.67                     95.27  \n$625-$649              82.13                     75.40  \n$650+                  81.04                     73.69  ",
      "text/html": "<div>\n<style scoped>\n    .dataframe tbody tr th:only-of-type {\n        vertical-align: middle;\n    }\n\n    .dataframe tbody tr th {\n        vertical-align: top;\n    }\n\n    .dataframe thead th {\n        text-align: right;\n    }\n</style>\n<table border=\"1\" class=\"dataframe\">\n  <thead>\n    <tr style=\"text-align: right;\">\n      <th></th>\n      <th>Average Math Score</th>\n      <th>Average Reading Score</th>\n      <th>Pct Passed Math</th>\n      <th>Pct Passed Reading</th>\n      <th>Pct. Overall Passing Rate</th>\n    </tr>\n  </thead>\n  <tbody>\n    <tr>\n      <th>&lt;$600</th>\n      <td>83.36</td>\n      <td>83.91</td>\n      <td>93.74</td>\n      <td>96.51</td>\n      <td>95.12</td>\n    </tr>\n    <tr>\n      <th>$600-$624</th>\n      <td>83.54</td>\n      <td>83.91</td>\n      <td>93.87</td>\n      <td>96.67</td>\n      <td>95.27</td>\n    </tr>\n    <tr>\n      <th>$625-$649</th>\n      <td>77.47</td>\n      <td>81.16</td>\n      <td>68.66</td>\n      <td>82.13</td>\n      <td>75.40</td>\n    </tr>\n    <tr>\n      <th>$650+</th>\n      <td>77.03</td>\n      <td>81.03</td>\n      <td>66.34</td>\n      <td>81.04</td>\n      <td>73.69</td>\n    </tr>\n  </tbody>\n</table>\n</div>"
     },
     "metadata": {},
     "execution_count": 19
    }
   ],
   "source": [
    "#Creating a dataframe for budget per student bins\n",
    "\n",
    "budget_range_sum = pd.DataFrame({\"Average Math Score\" : budget_avg_math,\n",
    "                                 \"Average Reading Score\" : budget_avg_read,\n",
    "                                 \"Pct Passed Math\" : bud_pct_pass_math,\n",
    "                                 \"Pct Passed Reading\" : bud_pct_pass_read,\n",
    "                                 \"Pct. Overall Passing Rate\": bud_overall_pass_rate})\n",
    "budget_range_sum"
   ]
  },
  {
   "cell_type": "code",
   "execution_count": 20,
   "metadata": {},
   "outputs": [],
   "source": [
    "#Creating school size bins and merging dataset back into complete student level database.\n",
    "# School size bins are: Small (0-1800 students), Medium (1800-3600 students), and Large (3600+ students)\n",
    "school_bins = [0,1800,3600,5400]\n",
    "school_range = [\"Small School\",\"Medium School\",\"Large School\"]\n",
    "school_size = school_index[\"size\"]\n",
    "\n",
    "s1 = pd.cut(school_size,school_bins,labels = school_range)\n",
    "s2 = pd.DataFrame({\"School Size (Range)\" : s1})\n",
    "s2 = pd.DataFrame.reset_index(s2)\n",
    "school_size_merge = pd.merge(school_data_complete,s2,on=\"school_name\")"
   ]
  },
  {
   "cell_type": "code",
   "execution_count": 21,
   "metadata": {},
   "outputs": [],
   "source": [
    "#Looking at average reading and math scores by school size bins\n",
    "\n",
    "school_size_scores = school_size_merge.groupby(['School Size (Range)'])\n",
    "\n",
    "ssize_avg_math = school_size_scores[\"math_score\"].mean()\n",
    "ssize_avg_read = school_size_scores[\"reading_score\"].mean()\n",
    "\n",
    "ssize_avg_math = ssize_avg_math.map('{:.2f}'.format)\n",
    "ssize_avg_read = ssize_avg_read.map('{:.2f}'.format)\n"
   ]
  },
  {
   "cell_type": "code",
   "execution_count": 22,
   "metadata": {},
   "outputs": [],
   "source": [
    "#Calculating passing rates for math, reading and overall by school size bins\n",
    "\n",
    "ssize_range_size = school_size_merge[\"School Size (Range)\"].value_counts()\n",
    "ssize_passing_math = school_size_merge.loc[school_size_merge[\"math_score\"] >= 70]\n",
    "ssize_group_by_math = ssize_passing_math.groupby(['School Size (Range)']).agg('count')\n",
    "ssize_pct_pass_math = (ssize_group_by_math)['math_score']/ssize_range_size * 100\n",
    "\n",
    "ssize_passing_read = school_size_merge.loc[school_size_merge[\"reading_score\"] >= 70]\n",
    "ssize_group_by_read = ssize_passing_read.groupby(['School Size (Range)']).agg(\"count\")\n",
    "ssize_pct_pass_read = (ssize_group_by_read)['reading_score']/ssize_range_size * 100\n",
    "\n",
    "ssize_overall_pass_rate = (ssize_pct_pass_math + ssize_pct_pass_read)/2\n",
    "\n",
    "ssize_pct_pass_math = ssize_pct_pass_math.map('{:.2f}'.format)\n",
    "ssize_pct_pass_read = ssize_pct_pass_read.map('{:.2f}'.format)\n",
    "ssize_overall_pass_rate = ssize_overall_pass_rate.map('{:.2f}'.format)\n"
   ]
  },
  {
   "cell_type": "code",
   "execution_count": 23,
   "metadata": {},
   "outputs": [
    {
     "output_type": "execute_result",
     "data": {
      "text/plain": "              Average Math Score Average Reading Score Pct Passed Math  \\\nSmall School               83.52                 83.86           93.56   \nMedium School              78.88                 81.99           75.51   \nLarge School               77.07                 80.93           66.47   \n\n              Pct Passed Reading Pct. Overall Passing Rate  \nSmall School               96.59                     95.07  \nMedium School              85.77                     80.64  \nLarge School               81.11                     73.79  ",
      "text/html": "<div>\n<style scoped>\n    .dataframe tbody tr th:only-of-type {\n        vertical-align: middle;\n    }\n\n    .dataframe tbody tr th {\n        vertical-align: top;\n    }\n\n    .dataframe thead th {\n        text-align: right;\n    }\n</style>\n<table border=\"1\" class=\"dataframe\">\n  <thead>\n    <tr style=\"text-align: right;\">\n      <th></th>\n      <th>Average Math Score</th>\n      <th>Average Reading Score</th>\n      <th>Pct Passed Math</th>\n      <th>Pct Passed Reading</th>\n      <th>Pct. Overall Passing Rate</th>\n    </tr>\n  </thead>\n  <tbody>\n    <tr>\n      <th>Small School</th>\n      <td>83.52</td>\n      <td>83.86</td>\n      <td>93.56</td>\n      <td>96.59</td>\n      <td>95.07</td>\n    </tr>\n    <tr>\n      <th>Medium School</th>\n      <td>78.88</td>\n      <td>81.99</td>\n      <td>75.51</td>\n      <td>85.77</td>\n      <td>80.64</td>\n    </tr>\n    <tr>\n      <th>Large School</th>\n      <td>77.07</td>\n      <td>80.93</td>\n      <td>66.47</td>\n      <td>81.11</td>\n      <td>73.79</td>\n    </tr>\n  </tbody>\n</table>\n</div>"
     },
     "metadata": {},
     "execution_count": 23
    }
   ],
   "source": [
    "#Creating a dataframe for school size bins\n",
    "ssize_range_sum = pd.DataFrame({\"Average Math Score\" : ssize_avg_math,\n",
    "                                 \"Average Reading Score\" : ssize_avg_read,\n",
    "                                 \"Pct Passed Math\" : ssize_pct_pass_math,\n",
    "                                 \"Pct Passed Reading\" : ssize_pct_pass_read,\n",
    "                                 \"Pct. Overall Passing Rate\": ssize_overall_pass_rate})\n",
    "ssize_range_sum"
   ]
  },
  {
   "cell_type": "code",
   "execution_count": 24,
   "metadata": {},
   "outputs": [],
   "source": [
    "#Finding the average math and reading score by type of school: charter or district.\n",
    "type_scores = school_data_complete.groupby(['type'])\n",
    "\n",
    "\n",
    "type_avg_math = type_scores[\"math_score\"].mean()\n",
    "type_avg_read = type_scores[\"reading_score\"].mean()\n",
    "\n",
    "type_avg_math = type_avg_math.map('{:.2f}'.format)\n",
    "type_avg_read = type_avg_read.map('{:.2f}'.format)"
   ]
  },
  {
   "cell_type": "code",
   "execution_count": 25,
   "metadata": {},
   "outputs": [],
   "source": [
    "#Calculating passing rates for math, reading and overall by school type\n",
    "\n",
    "type_size = school_data_complete[\"type\"].value_counts()\n",
    "type_passing_math = school_data_complete.loc[school_data_complete[\"math_score\"] >= 70]\n",
    "type_group_by_math = type_passing_math.groupby(['type']).agg('count')\n",
    "type_pct_pass_math = (type_group_by_math)['math_score']/type_size * 100\n",
    "\n",
    "type_passing_read = school_data_complete.loc[school_data_complete[\"reading_score\"] >= 70]\n",
    "type_group_by_read = type_passing_read.groupby(['type']).agg(\"count\")\n",
    "type_pct_pass_read = (type_group_by_read)['reading_score']/type_size * 100\n",
    "\n",
    "type_overall_pass_rate = (type_pct_pass_math + type_pct_pass_read)/2\n",
    "\n",
    "type_pct_pass_math = type_pct_pass_math.map('{:.2f}'.format)\n",
    "type_pct_pass_read = type_pct_pass_read.map('{:.2f}'.format)\n",
    "type_overall_pass_rate = type_overall_pass_rate.map('{:.2f}'.format)\n"
   ]
  },
  {
   "cell_type": "code",
   "execution_count": 26,
   "metadata": {},
   "outputs": [
    {
     "output_type": "execute_result",
     "data": {
      "text/plain": "         Average Math Score Average Reading Score Pct Passed Math  \\\ntype                                                                \nCharter               83.41                 83.90           93.70   \nDistrict              76.99                 80.96           66.52   \n\n         Pct Passed Reading Pct. Overall Passing Rate  \ntype                                                   \nCharter               96.65                     95.17  \nDistrict              80.91                     73.71  ",
      "text/html": "<div>\n<style scoped>\n    .dataframe tbody tr th:only-of-type {\n        vertical-align: middle;\n    }\n\n    .dataframe tbody tr th {\n        vertical-align: top;\n    }\n\n    .dataframe thead th {\n        text-align: right;\n    }\n</style>\n<table border=\"1\" class=\"dataframe\">\n  <thead>\n    <tr style=\"text-align: right;\">\n      <th></th>\n      <th>Average Math Score</th>\n      <th>Average Reading Score</th>\n      <th>Pct Passed Math</th>\n      <th>Pct Passed Reading</th>\n      <th>Pct. Overall Passing Rate</th>\n    </tr>\n    <tr>\n      <th>type</th>\n      <th></th>\n      <th></th>\n      <th></th>\n      <th></th>\n      <th></th>\n    </tr>\n  </thead>\n  <tbody>\n    <tr>\n      <th>Charter</th>\n      <td>83.41</td>\n      <td>83.90</td>\n      <td>93.70</td>\n      <td>96.65</td>\n      <td>95.17</td>\n    </tr>\n    <tr>\n      <th>District</th>\n      <td>76.99</td>\n      <td>80.96</td>\n      <td>66.52</td>\n      <td>80.91</td>\n      <td>73.71</td>\n    </tr>\n  </tbody>\n</table>\n</div>"
     },
     "metadata": {},
     "execution_count": 26
    }
   ],
   "source": [
    "#Creating dataframes for information related to school type.\n",
    "\n",
    "type_sum = pd.DataFrame({\"Average Math Score\" : type_avg_math,\n",
    "                         \"Average Reading Score\" : type_avg_read,\n",
    "                         \"Pct Passed Math\" : type_pct_pass_math,\n",
    "                         \"Pct Passed Reading\" : type_pct_pass_read,\n",
    "                         \"Pct. Overall Passing Rate\": type_overall_pass_rate})\n",
    "type_sum"
   ]
  }
 ],
 "metadata": {
  "kernelspec": {
   "display_name": "Python 3.6.10 64-bit ('MyPythonEnvironment': conda)",
   "language": "python",
   "name": "python361064bitmypythonenvironmentcondaa0e3df26c7ca46bf9ce15a15b0ee0368"
  },
  "language_info": {
   "codemirror_mode": {
    "name": "ipython",
    "version": 3
   },
   "file_extension": ".py",
   "mimetype": "text/x-python",
   "name": "python",
   "nbconvert_exporter": "python",
   "pygments_lexer": "ipython3",
   "version": "3.6.10-final"
  }
 },
 "nbformat": 4,
 "nbformat_minor": 4
}