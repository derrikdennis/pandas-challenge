{
 "cells": [
  {
   "cell_type": "code",
   "execution_count": 4,
   "metadata": {},
   "outputs": [],
   "source": [
    "# Dependencies and Setup\n",
    "import pandas as pd\n"
   ]
  },
  {
   "cell_type": "code",
   "execution_count": 5,
   "metadata": {},
   "outputs": [],
   "source": [
    "# File to Load (Remember to Change These)\n",
    "school_data_to_load = \"Resources/schools_complete.csv\"\n",
    "student_data_to_load = \"Resources/students_complete.csv\"\n",
    "\n",
    "# Read School and Student Data File and store into Pandas Data Frames\n",
    "school_data = pd.read_csv(school_data_to_load)\n",
    "student_data = pd.read_csv(student_data_to_load)"
   ]
  },
  {
   "cell_type": "code",
   "execution_count": 7,
   "metadata": {},
   "outputs": [],
   "source": [
    "school_count = school_data[\"school_name\"].count()\n",
    "student_pop = school_data[\"size\"].sum()\n",
    "total_budget = school_data[\"budget\"].sum()\n"
   ]
  },
  {
   "cell_type": "code",
   "execution_count": 8,
   "metadata": {},
   "outputs": [],
   "source": [
    "#Districtwide Student Stats\n",
    "scores = student_data[[\"Student ID\",\"school_name\",\"reading_score\",\"math_score\"]]\n",
    "\n",
    "avg_math_score = scores[\"math_score\"].mean()\n",
    "\n",
    "avg_read_score = scores[\"reading_score\"].mean()\n",
    "\n",
    "overall_avg_score = (avg_math_score + avg_read_score)/2\n"
   ]
  },
  {
   "cell_type": "code",
   "execution_count": 9,
   "metadata": {},
   "outputs": [],
   "source": [
    "passing_math = scores.loc[scores[\"math_score\"] >= 70]\n",
    "pct_pass_math = len(passing_math)/student_pop * 100\n",
    "\n",
    "passing_read = scores.loc[scores[\"reading_score\"] >= 70]\n",
    "pct_pass_read = len(passing_read)/student_pop * 100\n"
   ]
  },
  {
   "cell_type": "code",
   "execution_count": 7,
   "metadata": {},
   "outputs": [
    {
     "output_type": "execute_result",
     "data": {
      "text/plain": "   Total Schools  Total Students  Total Budget  Average Math Score  \\\n0             15           39170      24649428           78.985371   \n\n   Average Reading Score  Pct. Pass Math  Pct. Pass Read  \\\n0               81.87784       74.980853       85.805463   \n\n   Pct. Overall Passing Rate  \n0                  80.431606  ",
      "text/html": "<div>\n<style scoped>\n    .dataframe tbody tr th:only-of-type {\n        vertical-align: middle;\n    }\n\n    .dataframe tbody tr th {\n        vertical-align: top;\n    }\n\n    .dataframe thead th {\n        text-align: right;\n    }\n</style>\n<table border=\"1\" class=\"dataframe\">\n  <thead>\n    <tr style=\"text-align: right;\">\n      <th></th>\n      <th>Total Schools</th>\n      <th>Total Students</th>\n      <th>Total Budget</th>\n      <th>Average Math Score</th>\n      <th>Average Reading Score</th>\n      <th>Pct. Pass Math</th>\n      <th>Pct. Pass Read</th>\n      <th>Pct. Overall Passing Rate</th>\n    </tr>\n  </thead>\n  <tbody>\n    <tr>\n      <th>0</th>\n      <td>15</td>\n      <td>39170</td>\n      <td>24649428</td>\n      <td>78.985371</td>\n      <td>81.87784</td>\n      <td>74.980853</td>\n      <td>85.805463</td>\n      <td>80.431606</td>\n    </tr>\n  </tbody>\n</table>\n</div>"
     },
     "metadata": {},
     "execution_count": 7
    }
   ],
   "source": [
    "district_sum = pd.DataFrame({\"Total Schools\" : [school_count],\n",
    "                             \"Total Students\" : student_pop,\n",
    "                             \"Total Budget\" : total_budget,\n",
    "                             \"Average Math Score\" : avg_math_score,\n",
    "                             \"Average Reading Score\" : avg_read_score,\n",
    "                             \"Pct. Pass Math\" : pct_pass_math,\n",
    "                             \"Pct. Pass Read\" : pct_pass_read,\n",
    "                             \"Pct. Overall Passing Rate\" : overall_avg_score})\n",
    "#district_sum.map.format({\"Total Students\" : \"{:,.0f}\",\n",
    "#                           \"Total Budget\" : \"${:,.0f}\"})\n",
    "district_sum"
   ]
  },
  {
   "cell_type": "code",
   "execution_count": 10,
   "metadata": {},
   "outputs": [],
   "source": [
    "school_data_complete = pd.merge(student_data, school_data, how=\"left\", on=[\"school_name\", \"school_name\"])\n"
   ]
  },
  {
   "cell_type": "code",
   "execution_count": 38,
   "metadata": {
    "scrolled": true
   },
   "outputs": [],
   "source": [
    "school_index = school_data.set_index('school_name')\n",
    "school_type = school_index['type']\n",
    "school_size = school_index['size']\n",
    "school_budget = school_index['budget']\n",
    "\n"
   ]
  },
  {
   "cell_type": "code",
   "execution_count": 39,
   "metadata": {},
   "outputs": [
    {
     "output_type": "execute_result",
     "data": {
      "text/plain": "school_name\nHuang High School        $1,910,635.00\nFigueroa High School     $1,884,411.00\nShelton High School      $1,056,600.00\nHernandez High School    $3,022,020.00\nGriffin High School        $917,500.00\nWilson High School       $1,319,574.00\nCabrera High School      $1,081,356.00\nBailey High School       $3,124,928.00\nHolden High School         $248,087.00\nPena High School           $585,858.00\nWright High School       $1,049,400.00\nRodriguez High School    $2,547,363.00\nJohnson High School      $3,094,650.00\nFord High School         $1,763,916.00\nThomas High School       $1,043,130.00\nName: budget, dtype: object"
     },
     "metadata": {},
     "execution_count": 39
    }
   ],
   "source": [
    "budget_per_student = (school_budget/school_size)\n",
    "\n",
    "school_budget = school_budget.map('${:,.2f}'.format)\n",
    "budget_per_student = budget_per_student.map('${:,.2f}'.format)\n",
    "\n",
    "\n",
    "school_budget"
   ]
  },
  {
   "cell_type": "code",
   "execution_count": 40,
   "metadata": {},
   "outputs": [],
   "source": [
    "school_scores = school_data_complete.groupby(['school_name'])\n",
    "\n",
    "\n",
    "school_avg_math = school_scores[\"math_score\"].mean()\n",
    "school_avg_read = school_scores[\"reading_score\"].mean()\n",
    "\n",
    "school_avg_math = school_avg_math.map('{:.2f}'.format)\n",
    "school_avg_read = school_avg_read.map('{:.2f}'.format)"
   ]
  },
  {
   "cell_type": "code",
   "execution_count": 41,
   "metadata": {
    "scrolled": true
   },
   "outputs": [
    {
     "output_type": "execute_result",
     "data": {
      "text/plain": "school_name\nBailey High School       74.31\nCabrera High School      95.59\nFigueroa High School     73.36\nFord High School         73.80\nGriffin High School      95.27\nHernandez High School    73.81\nHolden High School       94.38\nHuang High School        73.50\nJohnson High School      73.64\nPena High School         95.27\nRodriguez High School    73.29\nShelton High School      94.86\nThomas High School       95.29\nWilson High School       95.20\nWright High School       94.97\ndtype: object"
     },
     "metadata": {},
     "execution_count": 41
    }
   ],
   "source": [
    "sch_passing_math = scores.loc[school_data_complete[\"math_score\"] >= 70]\n",
    "sch_group_by_math = sch_passing_math.groupby(['school_name']).agg('count')\n",
    "sch_pct_pass_math = (sch_group_by_math)['math_score']/school_size * 100\n",
    "\n",
    "sch_passing_read = scores.loc[school_data_complete[\"reading_score\"] >= 70]\n",
    "sch_group_by_read = sch_passing_read.groupby(['school_name']).agg(\"count\")\n",
    "sch_pct_pass_read = (sch_group_by_read)['reading_score']/school_size * 100\n",
    "\n",
    "sch_overall_pass_rate = (sch_pct_pass_math + sch_pct_pass_read)/2\n",
    "\n",
    "school_size = school_size.map('{:,.0f}'.format)\n",
    "sch_pct_pass_math = sch_pct_pass_math.map('{:.2f}'.format)\n",
    "sch_pct_pass_read = sch_pct_pass_read.map('{:.2f}'.format)\n",
    "sch_overall_pass_rate = sch_overall_pass_rate.map('{:.2f}'.format)\n",
    "sch_overall_pass_rate"
   ]
  },
  {
   "cell_type": "code",
   "execution_count": 42,
   "metadata": {},
   "outputs": [
    {
     "output_type": "execute_result",
     "data": {
      "text/plain": "                      School Type Total School Size Total School Budget  \\\nBailey High School       District             4,976       $3,124,928.00   \nCabrera High School       Charter             1,858       $1,081,356.00   \nFigueroa High School     District             2,949       $1,884,411.00   \nFord High School         District             2,739       $1,763,916.00   \nGriffin High School       Charter             1,468         $917,500.00   \nHernandez High School    District             4,635       $3,022,020.00   \nHolden High School        Charter               427         $248,087.00   \nHuang High School        District             2,917       $1,910,635.00   \nJohnson High School      District             4,761       $3,094,650.00   \nPena High School          Charter               962         $585,858.00   \nRodriguez High School    District             3,999       $2,547,363.00   \nShelton High School       Charter             1,761       $1,056,600.00   \nThomas High School        Charter             1,635       $1,043,130.00   \nWilson High School        Charter             2,283       $1,319,574.00   \nWright High School        Charter             1,800       $1,049,400.00   \n\n                      Budget Per Student Average Math Schore  \\\nBailey High School               $628.00               77.05   \nCabrera High School              $582.00               83.06   \nFigueroa High School             $639.00               76.71   \nFord High School                 $644.00               77.10   \nGriffin High School              $625.00               83.35   \nHernandez High School            $652.00               77.29   \nHolden High School               $581.00               83.80   \nHuang High School                $655.00               76.63   \nJohnson High School              $650.00               77.07   \nPena High School                 $609.00               83.84   \nRodriguez High School            $637.00               76.84   \nShelton High School              $600.00               83.36   \nThomas High School               $638.00               83.42   \nWilson High School               $578.00               83.27   \nWright High School               $583.00               83.68   \n\n                      Average Reading Score % Passing Math % Passing Reading  \\\nBailey High School                    81.03          66.68             81.93   \nCabrera High School                   83.98          94.13             97.04   \nFigueroa High School                  81.16          65.99             80.74   \nFord High School                      80.75          68.31             79.30   \nGriffin High School                   83.82          93.39             97.14   \nHernandez High School                 80.93          66.75             80.86   \nHolden High School                    83.81          92.51             96.25   \nHuang High School                     81.18          65.68             81.32   \nJohnson High School                   80.97          66.06             81.22   \nPena High School                      84.04          94.59             95.95   \nRodriguez High School                 80.74          66.37             80.22   \nShelton High School                   83.73          93.87             95.85   \nThomas High School                    83.85          93.27             97.31   \nWilson High School                    83.99          93.87             96.54   \nWright High School                    83.95          93.33             96.61   \n\n                      Overall Passing Rate  \nBailey High School                   74.31  \nCabrera High School                  95.59  \nFigueroa High School                 73.36  \nFord High School                     73.80  \nGriffin High School                  95.27  \nHernandez High School                73.81  \nHolden High School                   94.38  \nHuang High School                    73.50  \nJohnson High School                  73.64  \nPena High School                     95.27  \nRodriguez High School                73.29  \nShelton High School                  94.86  \nThomas High School                   95.29  \nWilson High School                   95.20  \nWright High School                   94.97  ",
      "text/html": "<div>\n<style scoped>\n    .dataframe tbody tr th:only-of-type {\n        vertical-align: middle;\n    }\n\n    .dataframe tbody tr th {\n        vertical-align: top;\n    }\n\n    .dataframe thead th {\n        text-align: right;\n    }\n</style>\n<table border=\"1\" class=\"dataframe\">\n  <thead>\n    <tr style=\"text-align: right;\">\n      <th></th>\n      <th>School Type</th>\n      <th>Total School Size</th>\n      <th>Total School Budget</th>\n      <th>Budget Per Student</th>\n      <th>Average Math Schore</th>\n      <th>Average Reading Score</th>\n      <th>% Passing Math</th>\n      <th>% Passing Reading</th>\n      <th>Overall Passing Rate</th>\n    </tr>\n  </thead>\n  <tbody>\n    <tr>\n      <th>Bailey High School</th>\n      <td>District</td>\n      <td>4,976</td>\n      <td>$3,124,928.00</td>\n      <td>$628.00</td>\n      <td>77.05</td>\n      <td>81.03</td>\n      <td>66.68</td>\n      <td>81.93</td>\n      <td>74.31</td>\n    </tr>\n    <tr>\n      <th>Cabrera High School</th>\n      <td>Charter</td>\n      <td>1,858</td>\n      <td>$1,081,356.00</td>\n      <td>$582.00</td>\n      <td>83.06</td>\n      <td>83.98</td>\n      <td>94.13</td>\n      <td>97.04</td>\n      <td>95.59</td>\n    </tr>\n    <tr>\n      <th>Figueroa High School</th>\n      <td>District</td>\n      <td>2,949</td>\n      <td>$1,884,411.00</td>\n      <td>$639.00</td>\n      <td>76.71</td>\n      <td>81.16</td>\n      <td>65.99</td>\n      <td>80.74</td>\n      <td>73.36</td>\n    </tr>\n    <tr>\n      <th>Ford High School</th>\n      <td>District</td>\n      <td>2,739</td>\n      <td>$1,763,916.00</td>\n      <td>$644.00</td>\n      <td>77.10</td>\n      <td>80.75</td>\n      <td>68.31</td>\n      <td>79.30</td>\n      <td>73.80</td>\n    </tr>\n    <tr>\n      <th>Griffin High School</th>\n      <td>Charter</td>\n      <td>1,468</td>\n      <td>$917,500.00</td>\n      <td>$625.00</td>\n      <td>83.35</td>\n      <td>83.82</td>\n      <td>93.39</td>\n      <td>97.14</td>\n      <td>95.27</td>\n    </tr>\n    <tr>\n      <th>Hernandez High School</th>\n      <td>District</td>\n      <td>4,635</td>\n      <td>$3,022,020.00</td>\n      <td>$652.00</td>\n      <td>77.29</td>\n      <td>80.93</td>\n      <td>66.75</td>\n      <td>80.86</td>\n      <td>73.81</td>\n    </tr>\n    <tr>\n      <th>Holden High School</th>\n      <td>Charter</td>\n      <td>427</td>\n      <td>$248,087.00</td>\n      <td>$581.00</td>\n      <td>83.80</td>\n      <td>83.81</td>\n      <td>92.51</td>\n      <td>96.25</td>\n      <td>94.38</td>\n    </tr>\n    <tr>\n      <th>Huang High School</th>\n      <td>District</td>\n      <td>2,917</td>\n      <td>$1,910,635.00</td>\n      <td>$655.00</td>\n      <td>76.63</td>\n      <td>81.18</td>\n      <td>65.68</td>\n      <td>81.32</td>\n      <td>73.50</td>\n    </tr>\n    <tr>\n      <th>Johnson High School</th>\n      <td>District</td>\n      <td>4,761</td>\n      <td>$3,094,650.00</td>\n      <td>$650.00</td>\n      <td>77.07</td>\n      <td>80.97</td>\n      <td>66.06</td>\n      <td>81.22</td>\n      <td>73.64</td>\n    </tr>\n    <tr>\n      <th>Pena High School</th>\n      <td>Charter</td>\n      <td>962</td>\n      <td>$585,858.00</td>\n      <td>$609.00</td>\n      <td>83.84</td>\n      <td>84.04</td>\n      <td>94.59</td>\n      <td>95.95</td>\n      <td>95.27</td>\n    </tr>\n    <tr>\n      <th>Rodriguez High School</th>\n      <td>District</td>\n      <td>3,999</td>\n      <td>$2,547,363.00</td>\n      <td>$637.00</td>\n      <td>76.84</td>\n      <td>80.74</td>\n      <td>66.37</td>\n      <td>80.22</td>\n      <td>73.29</td>\n    </tr>\n    <tr>\n      <th>Shelton High School</th>\n      <td>Charter</td>\n      <td>1,761</td>\n      <td>$1,056,600.00</td>\n      <td>$600.00</td>\n      <td>83.36</td>\n      <td>83.73</td>\n      <td>93.87</td>\n      <td>95.85</td>\n      <td>94.86</td>\n    </tr>\n    <tr>\n      <th>Thomas High School</th>\n      <td>Charter</td>\n      <td>1,635</td>\n      <td>$1,043,130.00</td>\n      <td>$638.00</td>\n      <td>83.42</td>\n      <td>83.85</td>\n      <td>93.27</td>\n      <td>97.31</td>\n      <td>95.29</td>\n    </tr>\n    <tr>\n      <th>Wilson High School</th>\n      <td>Charter</td>\n      <td>2,283</td>\n      <td>$1,319,574.00</td>\n      <td>$578.00</td>\n      <td>83.27</td>\n      <td>83.99</td>\n      <td>93.87</td>\n      <td>96.54</td>\n      <td>95.20</td>\n    </tr>\n    <tr>\n      <th>Wright High School</th>\n      <td>Charter</td>\n      <td>1,800</td>\n      <td>$1,049,400.00</td>\n      <td>$583.00</td>\n      <td>83.68</td>\n      <td>83.95</td>\n      <td>93.33</td>\n      <td>96.61</td>\n      <td>94.97</td>\n    </tr>\n  </tbody>\n</table>\n</div>"
     },
     "metadata": {},
     "execution_count": 42
    }
   ],
   "source": [
    "\n",
    "school_sum = pd.DataFrame({\"School Type\" : school_type,\n",
    "                           \"Total School Size\" : school_size,\n",
    "                           \"Total School Budget\" : school_budget,\n",
    "                           \"Budget Per Student\" : budget_per_student,\n",
    "                           \"Average Math Schore\" : school_avg_math,\n",
    "                           \"Average Reading Score\" : school_avg_read,\n",
    "                           \"% Passing Math\" : sch_pct_pass_math,\n",
    "                           \"% Passing Reading\" : sch_pct_pass_read,\n",
    "                           \"Overall Passing Rate\" : sch_overall_pass_rate\n",
    "                           }\n",
    ")\n",
    "\n",
    "school_sum['Total School Budget'] = school_sum['Total School Budget']\n",
    "school_sum"
   ]
  },
  {
   "cell_type": "code",
   "execution_count": 12,
   "metadata": {},
   "outputs": [
    {
     "output_type": "execute_result",
     "data": {
      "text/plain": "                        type  size   budget\nschool_name                                \nHuang High School   District  2917  1910635\nHuang High School   District  2917  1910635\nHuang High School   District  2917  1910635\nHuang High School   District  2917  1910635\nHuang High School   District  2917  1910635\n...                      ...   ...      ...\nThomas High School   Charter  1635  1043130\nThomas High School   Charter  1635  1043130\nThomas High School   Charter  1635  1043130\nThomas High School   Charter  1635  1043130\nThomas High School   Charter  1635  1043130\n\n[39170 rows x 3 columns]",
      "text/html": "<div>\n<style scoped>\n    .dataframe tbody tr th:only-of-type {\n        vertical-align: middle;\n    }\n\n    .dataframe tbody tr th {\n        vertical-align: top;\n    }\n\n    .dataframe thead th {\n        text-align: right;\n    }\n</style>\n<table border=\"1\" class=\"dataframe\">\n  <thead>\n    <tr style=\"text-align: right;\">\n      <th></th>\n      <th>type</th>\n      <th>size</th>\n      <th>budget</th>\n    </tr>\n    <tr>\n      <th>school_name</th>\n      <th></th>\n      <th></th>\n      <th></th>\n    </tr>\n  </thead>\n  <tbody>\n    <tr>\n      <th>Huang High School</th>\n      <td>District</td>\n      <td>2917</td>\n      <td>1910635</td>\n    </tr>\n    <tr>\n      <th>Huang High School</th>\n      <td>District</td>\n      <td>2917</td>\n      <td>1910635</td>\n    </tr>\n    <tr>\n      <th>Huang High School</th>\n      <td>District</td>\n      <td>2917</td>\n      <td>1910635</td>\n    </tr>\n    <tr>\n      <th>Huang High School</th>\n      <td>District</td>\n      <td>2917</td>\n      <td>1910635</td>\n    </tr>\n    <tr>\n      <th>Huang High School</th>\n      <td>District</td>\n      <td>2917</td>\n      <td>1910635</td>\n    </tr>\n    <tr>\n      <th>...</th>\n      <td>...</td>\n      <td>...</td>\n      <td>...</td>\n    </tr>\n    <tr>\n      <th>Thomas High School</th>\n      <td>Charter</td>\n      <td>1635</td>\n      <td>1043130</td>\n    </tr>\n    <tr>\n      <th>Thomas High School</th>\n      <td>Charter</td>\n      <td>1635</td>\n      <td>1043130</td>\n    </tr>\n    <tr>\n      <th>Thomas High School</th>\n      <td>Charter</td>\n      <td>1635</td>\n      <td>1043130</td>\n    </tr>\n    <tr>\n      <th>Thomas High School</th>\n      <td>Charter</td>\n      <td>1635</td>\n      <td>1043130</td>\n    </tr>\n    <tr>\n      <th>Thomas High School</th>\n      <td>Charter</td>\n      <td>1635</td>\n      <td>1043130</td>\n    </tr>\n  </tbody>\n</table>\n<p>39170 rows × 3 columns</p>\n</div>"
     },
     "metadata": {},
     "execution_count": 12
    }
   ],
   "source": [
    "school_info"
   ]
  },
  {
   "cell_type": "code",
   "execution_count": 14,
   "metadata": {},
   "outputs": [
    {
     "output_type": "execute_result",
     "data": {
      "text/plain": "15"
     },
     "metadata": {},
     "execution_count": 14
    }
   ],
   "source": [
    "school_count"
   ]
  }
 ],
 "metadata": {
  "kernelspec": {
   "display_name": "Python 3.6.10 64-bit ('MyPythonEnvironment': conda)",
   "language": "python",
   "name": "python361064bitmypythonenvironmentcondaa0e3df26c7ca46bf9ce15a15b0ee0368"
  },
  "language_info": {
   "codemirror_mode": {
    "name": "ipython",
    "version": 3
   },
   "file_extension": ".py",
   "mimetype": "text/x-python",
   "name": "python",
   "nbconvert_exporter": "python",
   "pygments_lexer": "ipython3",
   "version": "3.6.10-final"
  }
 },
 "nbformat": 4,
 "nbformat_minor": 4
}